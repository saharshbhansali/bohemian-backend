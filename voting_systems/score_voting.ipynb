{
 "cells": [
  {
   "cell_type": "markdown",
   "metadata": {},
   "source": [
    "# Score Voting"
   ]
  },
  {
   "cell_type": "code",
   "execution_count": 1,
   "metadata": {},
   "outputs": [],
   "source": [
    "import csv\n",
    "import random\n",
    "\n",
    "candidates = [\"Alice\", \"Bob\", \"Charlie\", \"Diana\", \"Eve\", \"Frank\", \"Grace\", \"Hank\"]\n",
    "ratings = [i/100 for i in range(100)]\n",
    "# Create vote data (similar to rcv, but each sublist represents the voter's scores for each candidate)\n",
    "votes = []\n",
    "num_voters = 1000\n",
    "\n",
    "# Write data to csv file\n",
    "with open('votes.csv', 'w', newline='') as csvfile:\n",
    "    writer = csv.writer(csvfile)\n",
    "    writer.writerow([\"voter\"] + [f\"{candidates[i]}\" for i in range(len(candidates))]) \n",
    "    \n",
    "    for i in range(num_voters):\n",
    "        # Generate unique candidate choices for each voter\n",
    "        # vote = random.sample(candidates.tolist(), len(candidates))  \n",
    "        if(i % 3 == 0):\n",
    "            vote = random.sample(ratings, len(candidates))\n",
    "            writer.writerow([f\"voter {i+1}\"] + vote)\n",
    "        else:\n",
    "            vote = random.sample(ratings, len(candidates))\n",
    "            writer.writerow([f\"voter {i+1}\"] + vote)"
   ]
  },
  {
   "cell_type": "code",
   "execution_count": 2,
   "metadata": {},
   "outputs": [
    {
     "data": {
      "text/html": [
       "<div>\n",
       "<style scoped>\n",
       "    .dataframe tbody tr th:only-of-type {\n",
       "        vertical-align: middle;\n",
       "    }\n",
       "\n",
       "    .dataframe tbody tr th {\n",
       "        vertical-align: top;\n",
       "    }\n",
       "\n",
       "    .dataframe thead th {\n",
       "        text-align: right;\n",
       "    }\n",
       "</style>\n",
       "<table border=\"1\" class=\"dataframe\">\n",
       "  <thead>\n",
       "    <tr style=\"text-align: right;\">\n",
       "      <th></th>\n",
       "      <th>Voters</th>\n",
       "      <th>Alice</th>\n",
       "      <th>Bob</th>\n",
       "      <th>Charlie</th>\n",
       "    </tr>\n",
       "  </thead>\n",
       "  <tbody>\n",
       "    <tr>\n",
       "      <th>0</th>\n",
       "      <td>voter_0</td>\n",
       "      <td>2</td>\n",
       "      <td>3</td>\n",
       "      <td>6</td>\n",
       "    </tr>\n",
       "    <tr>\n",
       "      <th>1</th>\n",
       "      <td>voter_1</td>\n",
       "      <td>2</td>\n",
       "      <td>4</td>\n",
       "      <td>5</td>\n",
       "    </tr>\n",
       "    <tr>\n",
       "      <th>2</th>\n",
       "      <td>voter_2</td>\n",
       "      <td>2</td>\n",
       "      <td>5</td>\n",
       "      <td>6</td>\n",
       "    </tr>\n",
       "    <tr>\n",
       "      <th>3</th>\n",
       "      <td>voter_3</td>\n",
       "      <td>3</td>\n",
       "      <td>2</td>\n",
       "      <td>7</td>\n",
       "    </tr>\n",
       "    <tr>\n",
       "      <th>4</th>\n",
       "      <td>voter_4</td>\n",
       "      <td>2</td>\n",
       "      <td>4</td>\n",
       "      <td>5</td>\n",
       "    </tr>\n",
       "  </tbody>\n",
       "</table>\n",
       "</div>"
      ],
      "text/plain": [
       "    Voters  Alice  Bob  Charlie\n",
       "0  voter_0      2    3        6\n",
       "1  voter_1      2    4        5\n",
       "2  voter_2      2    5        6\n",
       "3  voter_3      3    2        7\n",
       "4  voter_4      2    4        5"
      ]
     },
     "execution_count": 2,
     "metadata": {},
     "output_type": "execute_result"
    }
   ],
   "source": [
    "import pandas as pd\n",
    "\n",
    "list1 = []\n",
    "votes = {\"Alice\":[2, 2, 2, 3, 2, 2, 5, 2, 5, 2, 6, 7, 3, 2, 3, 5, 8, 4, 9, 3], \"Bob\": [3, 4, 5, 2, 4, 3, 4, 4, 5, 9, 9, 4, 3, 4, 4, 4, 5, 3, 3, 4], \"Charlie\": [6, 5, 6, 7, 5, 8, 6, 5, 5, 6, 2, 1, 2, 6, 8, 9, 9, 2, 5, 7]}\n",
    "df = pd.DataFrame()\n",
    "df['Voters'] = [f\"voter_{i}\" for i in range(20)]\n",
    "df['Alice'] = votes[\"Alice\"]\n",
    "df['Bob'] = votes[\"Bob\"]\n",
    "df['Charlie'] = votes[\"Charlie\"]\n",
    "\n",
    "\n",
    "'''\n",
    "for i in candidates:\n",
    "    for j in range(num_voters):\n",
    "        list1.append(random.randint(random.randint(0, 5), random.randint(5, 10)))\n",
    "    df.assign( = list1)\n",
    "    '''\n",
    "df.head()\n"
   ]
  },
  {
   "cell_type": "code",
   "execution_count": 8,
   "metadata": {},
   "outputs": [
    {
     "name": "stdout",
     "output_type": "stream",
     "text": [
      "Winner is:  Charlie\n"
     ]
    }
   ],
   "source": [
    "dict1 = {}\n",
    "for i in df.columns[1:]:\n",
    "    dict1[i] = df[i].median()\n",
    "winner = max(dict1, key = dict1.get)\n",
    "print(\"Winner is: \", winner)"
   ]
  }
 ],
 "metadata": {
  "kernelspec": {
   "display_name": "Python 3",
   "language": "python",
   "name": "python3"
  },
  "language_info": {
   "codemirror_mode": {
    "name": "ipython",
    "version": 3
   },
   "file_extension": ".py",
   "mimetype": "text/x-python",
   "name": "python",
   "nbconvert_exporter": "python",
   "pygments_lexer": "ipython3",
   "version": "3.10.8"
  }
 },
 "nbformat": 4,
 "nbformat_minor": 2
}
