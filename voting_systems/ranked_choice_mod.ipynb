{
 "cells": [
  {
   "cell_type": "markdown",
   "metadata": {},
   "source": [
    "# Ranked Choice Voting\n",
    "\n",
    "Ranked Choice Voting (RCV), also known as Instant Runoff Voting, is a voting system that allows voters to rank candidates in order of preference. Instead of selecting just one candidate, voters have the option to rank multiple candidates from their most preferred to least preferred.\n",
    "\n",
    "In RCV, the counting process involves multiple rounds. In each round, the candidate with the fewest first-choice votes is eliminated. The votes for the eliminated candidate are then redistributed to the remaining candidates based on the voters' next preferences. This process continues until one candidate receives a majority of the votes.\n",
    "\n",
    "RCV is designed to ensure that the winning candidate has the support of the majority of voters. It also allows voters to express their preferences for multiple candidates without worrying about \"wasting\" their vote on a less popular candidate."
   ]
  },
  {
   "cell_type": "markdown",
   "metadata": {},
   "source": [
    "Generate Votes"
   ]
  },
  {
   "cell_type": "code",
   "execution_count": 3,
   "metadata": {},
   "outputs": [],
   "source": [
    "import ast\n",
    "import csv\n",
    "import pandas as pd\n",
    "\n",
    "vote_format = ['{\"11\":1, \"12\":2, \"13\":3}','{\"13\":1, \"11\":2, \"12\":3}', '{\"11\":1, \"13\":2, \"12\":3}']\n",
    "\n",
    "def ranked_choice(vote_format): # Change parameter to whatever\n",
    "\n",
    "    list_format = []\n",
    "    for i in range(len(vote_format)):\n",
    "        dict_1 = ast.literal_eval(vote_format[i])\n",
    "        list_format.append(dict((v,k) for k,v in dict_1.items()))\n",
    "    columns = list_format[0].keys()\n",
    "\n",
    "\n",
    "\n",
    "    # Define the candidates\n",
    "    candidates = [\"Alice\", \"Bob\", \"Charlie\", \"Diana\", \"Eve\", \"Frank\", \"Grace\", \"Hank\"]\n",
    "    eliminated_candidates = []\n",
    "\n",
    "\n",
    "    # Create vote data (each sublist represents a voter's ranked choices)\n",
    "    votes = []\n",
    "    num_voters = 1000\n",
    "\n",
    "\n",
    "    # Write the data to a CSV file\n",
    "    with open('votes.csv', 'w', newline='') as csvfile:\n",
    "        writer = csv.writer(csvfile)\n",
    "        writer.writerow([\"voter\"] + [f\"choice_{i+1}\" for i in range(len(columns))]) #len(columns)\n",
    "        \n",
    "        for i in range(len(list_format)): #list_format\n",
    "            # Generate unique candidate choices for each voter\n",
    "\n",
    "            vote_rec = []\n",
    "            vote_rec.append(f\"voter{i+1}\")\n",
    "            for count in range(1, len(columns)+1):\n",
    "                vote_rec.append(list_format[i][count])\n",
    "            writer.writerow(vote_rec)\n",
    "\n",
    "    # Read the CSV file\n",
    "    df = pd.read_csv('votes.csv')\n",
    "    df['current_winner'] = df['choice_1']\n",
    "    # Create an array with a list of all the candidates\n",
    "    candidates = df['current_winner'].unique()\n",
    "    num_candidates = len(df.columns[1:-1].tolist())\n",
    "\n",
    "    # Display the dataframe\n",
    "    # print(df.to_string())\n",
    "\n",
    "    # Initialize the list of winners\n",
    "    winners = []\n",
    "    round_number = 1\n",
    "\n",
    "    def RankedChoiceVotingRound(df, candidates, round_text, num_candidates):\n",
    "        # Count the number of first-choice votes for each candidate\n",
    "        first_choice_votes = df['current_winner'].value_counts()\n",
    "\n",
    "        total_votes = first_choice_votes.sum()\n",
    "        round_winner_votes = -1\n",
    "        round_winner = None\n",
    "        # Print the results of the current round\n",
    "        # print(f\"{round_text}\")\n",
    "        for candidate, votes in first_choice_votes.items():\n",
    "            # print(f\"{candidate}: {votes} votes\")\n",
    "            if votes > round_winner_votes:\n",
    "                round_winner_votes = votes\n",
    "                round_winner = candidate\n",
    "        # print(f\"Total Votes: {total_votes}\\n\")\n",
    "        \n",
    "        # Identify the candidate with the fewest votes\n",
    "        min_votes = first_choice_votes.min()\n",
    "        eliminated_candidate = first_choice_votes[first_choice_votes == min_votes].index[0]\n",
    "        # print(f\"Eliminated Candidate: {eliminated_candidate}\\nNumber of Votes: {min_votes}\\n\")\n",
    "        \n",
    "        # Eliminate the candidate with the fewest votes\n",
    "        candidates = [candidate for candidate in candidates if candidate != eliminated_candidate]\n",
    "        \n",
    "        # Redistribute the votes of the eliminated candidate\n",
    "        def redistribute_votes(row):\n",
    "            if row['current_winner'] == eliminated_candidate:\n",
    "                for i in range(1, num_candidates+1):\n",
    "                    if row[f'choice_{i}'] in candidates:\n",
    "                        return row[f'choice_{i}']\n",
    "                return None\n",
    "            return row['current_winner']\n",
    "        \n",
    "        df['current_winner'] = df.apply(redistribute_votes, axis=1)\n",
    "\n",
    "        # print(df.to_string() + \"\\n\")\n",
    "\n",
    "        if len(candidates) == 1:\n",
    "            return df, candidates, round_winner\n",
    "        \n",
    "        return df, candidates, round_winner\n",
    "\n",
    "    while len(candidates) > 1:\n",
    "        df, candidates, rcv_winner = RankedChoiceVotingRound(df, candidates, f\"Round {round_number}\", num_candidates)\n",
    "        \n",
    "        round_number += 1\n",
    "\n",
    "    _, _, _ = RankedChoiceVotingRound(df, candidates, f\"Round {round_number}\", num_candidates)\n",
    "\n",
    "\n",
    "    # Print the winner\n",
    "    # print(f\"Ranked Choice Voting:\\nWinner: {rcv_winner}\")\n",
    "    return rcv_winner\n",
    "\n"
   ]
  },
  {
   "cell_type": "code",
   "execution_count": 4,
   "metadata": {},
   "outputs": [
    {
     "name": "stdout",
     "output_type": "stream",
     "text": [
      "11\n"
     ]
    }
   ],
   "source": [
    "print(ranked_choice(vote_format=vote_format))"
   ]
  }
 ],
 "metadata": {
  "kernelspec": {
   "display_name": "base",
   "language": "python",
   "name": "python3"
  },
  "language_info": {
   "codemirror_mode": {
    "name": "ipython",
    "version": 3
   },
   "file_extension": ".py",
   "mimetype": "text/x-python",
   "name": "python",
   "nbconvert_exporter": "python",
   "pygments_lexer": "ipython3",
   "version": "3.9.20"
  }
 },
 "nbformat": 4,
 "nbformat_minor": 2
}
